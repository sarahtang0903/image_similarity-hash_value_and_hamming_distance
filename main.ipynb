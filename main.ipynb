{
 "cells": [
  {
   "cell_type": "code",
   "execution_count": 1,
   "metadata": {},
   "outputs": [],
   "source": [
    "import cv2\n",
    "\n",
    "# 读取灰度图像\n",
    "gray_image = cv2.imread('dog.jpg', cv2.IMREAD_GRAYSCALE)\n",
    "\n",
    "# 将灰度图像转换为彩色图像\n",
    "color_image = cv2.cvtColor(gray_image, cv2.COLOR_GRAY2BGR)\n",
    "\n",
    "# 显示彩色图像\n",
    "cv2.imshow('Color Image', color_image)\n",
    "cv2.waitKey(0)\n",
    "cv2.destroyAllWindows()\n"
   ]
  },
  {
   "cell_type": "code",
   "execution_count": 4,
   "metadata": {},
   "outputs": [
    {
     "name": "stdout",
     "output_type": "stream",
     "text": [
      "a_dist is 18, similarity is 0.718750, time is 0.000000\n",
      "p_dist is 16, similarity is 0.750000, time is 0.020169\n",
      "d_dist is 27, similarity is 0.578125, time is 0.006513\n"
     ]
    }
   ],
   "source": [
    "import pandas as pd\n",
    "import cv2\n",
    "import time\n",
    "import numpy as np\n",
    "\n",
    "def pHash(img,leng=32,wid=32):\n",
    "    img = cv2.resize(img, (leng, wid))   \n",
    "    gray = cv2.cvtColor(img, cv2.COLOR_BGR2GRAY)\n",
    "    dct = cv2.dct(np.float32(gray))\n",
    "    dct_roi = dct[0:8, 0:8]            \n",
    "    avreage = np.mean(dct_roi)\n",
    "    phash_01 = (dct_roi>avreage)+0\n",
    "    phash_list = phash_01.reshape(1,-1)[0].tolist()\n",
    "    hash = ''.join([str(x) for x in phash_list])\n",
    "    return hash\n",
    "\n",
    "def dHash(img,leng=9,wid=8):\n",
    "    img=cv2.resize(img,(leng, wid))\n",
    "    image=cv2.cvtColor(img,cv2.COLOR_BGR2GRAY)\n",
    "    #每行前一个像素大于后一个像素为1，相反为0，生成哈希\n",
    "    hash=[]\n",
    "    for i in range(wid):\n",
    "        for j in range(wid):\n",
    "            if image[i,j]>image[i,j+1]:\n",
    "                hash.append(1)\n",
    "            else:\n",
    "                hash.append(0)\n",
    "    return hash\n",
    "\n",
    "def aHash(img,leng=8,wid=8):\n",
    "    img=cv2.resize(img,(leng, wid))\n",
    "    image=cv2.cvtColor(img,cv2.COLOR_BGR2GRAY)\n",
    "    avreage = np.mean(image)                           \n",
    "    hash = [] \n",
    "    for i in range(image.shape[0]): \n",
    "        for j in range(image.shape[1]): \n",
    "            if image[i,j] >= avreage: \n",
    "                hash.append(1) \n",
    "            else: \n",
    "                hash.append(0) \n",
    "    return hash\n",
    "\n",
    "def Hamming_distance(hash1,hash2):\n",
    "    num = 0\n",
    "    for index in range(len(hash1)):\n",
    "        if hash1[index] != hash2[index]:\n",
    "            num += 1\n",
    "    return num \n",
    "\n",
    "if __name__ == '__main__':\n",
    "    \n",
    "    image1 = cv2.imread('dog.jpg')\n",
    "    image2 = cv2.imread('cat.jpg')\n",
    "    \n",
    "    start1 = time.time()\n",
    "    d_dist = Hamming_distance(dHash(image1),dHash(image2))\n",
    "    end1 = time.time()\n",
    "    \n",
    "    start2 = time.time()\n",
    "    p_dist = Hamming_distance(pHash(image1),pHash(image2))\n",
    "    end2 = time.time()\n",
    "    \n",
    "    start3 = time.time()\n",
    "    a_dist = Hamming_distance(aHash(image1),aHash(image2))\n",
    "    end3 = time.time()\n",
    "    \n",
    "    print('a_dist is '+'%d' % a_dist + ', similarity is ' +'%f' % (1 - a_dist * 1.0 / 64) + ', time is ' +'%f' % (end3-start3))\n",
    "    print('p_dist is '+'%d' % p_dist + ', similarity is ' +'%f' % (1 - p_dist * 1.0 / 64) + ', time is ' +'%f' % (end2-start2))\n",
    "    print('d_dist is '+'%d' % d_dist + ', similarity is ' +'%f' % (1 - d_dist * 1.0 / 64) + ', time is ' +'%f' % (end1-start1))"
   ]
  },
  {
   "cell_type": "code",
   "execution_count": null,
   "metadata": {},
   "outputs": [],
   "source": []
  }
 ],
 "metadata": {
  "kernelspec": {
   "display_name": "Python 3",
   "language": "python",
   "name": "python3"
  },
  "language_info": {
   "codemirror_mode": {
    "name": "ipython",
    "version": 3
   },
   "file_extension": ".py",
   "mimetype": "text/x-python",
   "name": "python",
   "nbconvert_exporter": "python",
   "pygments_lexer": "ipython3",
   "version": "3.9.13"
  }
 },
 "nbformat": 4,
 "nbformat_minor": 2
}
